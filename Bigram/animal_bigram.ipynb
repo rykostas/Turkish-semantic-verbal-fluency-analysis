{
 "cells": [
  {
   "cell_type": "code",
   "execution_count": 13,
   "metadata": {},
   "outputs": [],
   "source": [
    "import pandas as pd\n",
    "import operator\n",
    "import pickle  \n",
    "import os\n",
    "import csv"
   ]
  },
  {
   "cell_type": "code",
   "execution_count": 14,
   "metadata": {},
   "outputs": [],
   "source": [
    "def str2list(temp):\n",
    "    temp_list=[]\n",
    "    for i in temp:\n",
    "        a=i.split(\" \")\n",
    "        while True:\n",
    "            try:\n",
    "                a.remove('')\n",
    "            except:\n",
    "                break\n",
    "        while True:\n",
    "            try:\n",
    "                a.remove(',')\n",
    "            except:\n",
    "                break\n",
    "        temp_list.append(a)\n",
    "    return temp_list\n",
    "        "
   ]
  },
  {
   "cell_type": "code",
   "execution_count": 15,
   "metadata": {},
   "outputs": [],
   "source": [
    "animals = pd.read_csv(\"animal.csv\") #reading a file\n",
    "data=animals['PREPROCESSED TEXT'].values"
   ]
  },
  {
   "cell_type": "code",
   "execution_count": 16,
   "metadata": {},
   "outputs": [
    {
     "data": {
      "text/plain": [
       "[['kedi',\n",
       "  'köpek',\n",
       "  'aslan',\n",
       "  'kaplan',\n",
       "  'kanguru',\n",
       "  'koyun',\n",
       "  'tavuk',\n",
       "  'kuş',\n",
       "  'horoz',\n",
       "  'balık',\n",
       "  'leylek'],\n",
       " ['kedi',\n",
       "  'balık',\n",
       "  'aslan',\n",
       "  'kaplan',\n",
       "  'kanguru',\n",
       "  'aslan',\n",
       "  'tavuk',\n",
       "  'kuş',\n",
       "  'köpek',\n",
       "  'balık',\n",
       "  'leylek']]"
      ]
     },
     "execution_count": 16,
     "metadata": {},
     "output_type": "execute_result"
    }
   ],
   "source": [
    "data=str2list(data)\n",
    "animal_dict = {}\n",
    "data"
   ]
  },
  {
   "cell_type": "code",
   "execution_count": 17,
   "metadata": {
    "scrolled": false
   },
   "outputs": [],
   "source": [
    "for i in data:\n",
    "    for ii in range(len(i)-1):\n",
    "        counter=0\n",
    "        couple=i[ii] +\",\"+ i[ii+1]\n",
    "        if couple in animal_dict:\n",
    "            continue\n",
    "        for iii in data:\n",
    "            row2str=( \",\".join( i for i in iii ) )\n",
    "            if couple in row2str:\n",
    "                counter+=1\n",
    "                animal_dict[couple] = counter"
   ]
  },
  {
   "cell_type": "code",
   "execution_count": 18,
   "metadata": {},
   "outputs": [],
   "source": [
    "big_animal_list2=[]\n",
    "for i in data:\n",
    "    temp=[]\n",
    "    flag=0\n",
    "    animal_list=[]\n",
    "    for ii in range(len(i)-1):\n",
    "        w1=i[ii]\n",
    "        w2=i[ii+1]\n",
    "        couple=w1+\",\"+ w2        \n",
    "        w2v=animal_dict[couple]\n",
    "\n",
    "\n",
    "        if w2v>1:\n",
    "            if flag==1:\n",
    "                temp+=[w2]                \n",
    "            else:\n",
    "                temp+=[w1,w2]\n",
    "                flag=1\n",
    "        else:\n",
    "            if temp!=[]:\n",
    "                animal_list+=[temp]\n",
    "                temp=[]\n",
    "                flag=0\n",
    "            else:\n",
    "                animal_list+=[w1]\n",
    "    #creating word2vec clusters and assign a list (temp list)\n",
    "    if temp!=[]:\n",
    "        animal_list+=[temp]\n",
    "    else:\n",
    "        animal_list+=[w2]\n",
    "    big_animal_list2.append(animal_list)\n",
    "        #################### make alone string names(singleton) as a group\n",
    "    w2v_list=[]\n",
    "    for i in big_animal_list2:\n",
    "        p=[]\n",
    "        for ii in i:\n",
    "            if ii.__class__ == str:\n",
    "                p.append([ii])\n",
    "            else:\n",
    "                p.append(ii)\n",
    "        w2v_list.append( p )\n",
    "        "
   ]
  },
  {
   "cell_type": "code",
   "execution_count": 19,
   "metadata": {
    "scrolled": true
   },
   "outputs": [],
   "source": [
    "ths = open(\"animal_bigram_clusters.txt\", \"w\",encoding='utf-8')\n",
    "for i in w2v_list:\n",
    "    temp=str(i)+\"\\n\"\n",
    "    ths.write(temp)\n",
    "ths.close()\n",
    "\n",
    "############################# PICKLE#####################################\n",
    "\n",
    "pickle_name=\"animal_bigram_pickle_clusters.pkl\"\n",
    "with open(pickle_name, 'wb') as f:\n",
    "        pickle.dump(w2v_list, f)\n",
    "##################################\n",
    "        "
   ]
  },
  {
   "cell_type": "code",
   "execution_count": 20,
   "metadata": {},
   "outputs": [],
   "source": [
    "ths = open(\"bigram_frequency.csv\", \"w\",encoding='utf-8')\n",
    "ths.write(\"Couples, Frequency\\n\")\n",
    "for key, value in sorted(animal_dict.items(), key=lambda item: item[1],reverse=True):\n",
    "    temp=str(key)\n",
    "    temp=temp.replace(\",\",\" - \")\n",
    "    temp=temp+\",\"+str(value)+\"\\n\"\n",
    "    #print(temp[0:-1])\n",
    "    ths.write(temp)\n",
    "ths.close()\n"
   ]
  },
  {
   "cell_type": "code",
   "execution_count": 21,
   "metadata": {},
   "outputs": [],
   "source": [
    "switch_num=[]\n",
    "mean_cluster=[]\n",
    "for i in w2v_list:\n",
    "    size=0\n",
    "    for ii in i:\n",
    "        size=size+len(ii)\n",
    "    switch_num.append(len(i)-1)\n",
    "    mean_cluster.append(size/len(i))\n",
    "    \n",
    "    \n",
    "    "
   ]
  },
  {
   "cell_type": "code",
   "execution_count": null,
   "metadata": {},
   "outputs": [],
   "source": []
  },
  {
   "cell_type": "code",
   "execution_count": 22,
   "metadata": {},
   "outputs": [],
   "source": [
    "del animals['PREPROCESSED TEXT']"
   ]
  },
  {
   "cell_type": "code",
   "execution_count": null,
   "metadata": {},
   "outputs": [],
   "source": []
  },
  {
   "cell_type": "code",
   "execution_count": 23,
   "metadata": {},
   "outputs": [],
   "source": [
    "df2 = pd.DataFrame({'Bigram_clusters':w2v_list,'switch number':switch_num,\"mean cluster size\":mean_cluster})\n",
    "#animals=animals.drop( columns='data')\n",
    "result = pd.concat([animals, df2], axis=1, sort=False)"
   ]
  },
  {
   "cell_type": "code",
   "execution_count": 24,
   "metadata": {},
   "outputs": [],
   "source": [
    "result.to_csv('bigram_measures.csv', index=False)"
   ]
  },
  {
   "cell_type": "code",
   "execution_count": null,
   "metadata": {},
   "outputs": [],
   "source": []
  },
  {
   "cell_type": "code",
   "execution_count": null,
   "metadata": {},
   "outputs": [],
   "source": []
  }
 ],
 "metadata": {
  "kernelspec": {
   "display_name": "Python 3 (ipykernel)",
   "language": "python",
   "name": "python3"
  },
  "language_info": {
   "codemirror_mode": {
    "name": "ipython",
    "version": 3
   },
   "file_extension": ".py",
   "mimetype": "text/x-python",
   "name": "python",
   "nbconvert_exporter": "python",
   "pygments_lexer": "ipython3",
   "version": "3.10.4"
  }
 },
 "nbformat": 4,
 "nbformat_minor": 2
}
